{
 "cells": [
  {
   "attachments": {},
   "cell_type": "markdown",
   "metadata": {},
   "source": [
    "to recap, the pipeline and its associated terminology will be\n",
    "\n",
    "message $m \\in \\mathbb{C}^{N/2}$ $\\rightarrow_{\\text{encode}}$ plaintext $p(X) \\in \\mathbb{Z}[X]/(X^N + 1)$ $\\rightarrow_{\\text{encrypt}}$ ciphertext $c = (c_0(X), c_1(X)) \\in (\\mathbb{Z}_q[X](X^N + 1))^2$\n",
    "\n",
    "Then the function of interest $f$ will be homomorphically evaluated upon the ciphertext $c$ to get\n",
    "\n",
    "new message $m' = f(m) \\in \\mathbb{C}^{N/2}$ $\\leftarrow_{\\text{decode}}$ new plaintext $p'(X) = f(p(X)) \\in \\mathbb{Z}[X]/(X^N + 1)$ $\\leftarrow_{\\text{decrypt}}$ new ciphertext $c' = f(c) \\in (\\mathbb{Z}_q[X](X^N + 1))^2$\n",
    "\n",
    "\n"
   ]
  },
  {
   "cell_type": "code",
   "execution_count": 31,
   "metadata": {},
   "outputs": [],
   "source": [
    "import numpy as np\n",
    "from numpy.linalg import inv\n",
    "from numpy.polynomial import Polynomial"
   ]
  },
  {
   "cell_type": "code",
   "execution_count": 2,
   "metadata": {},
   "outputs": [],
   "source": [
    "N = 4\n",
    "M = 2*N\n",
    "# the 1st Mth root of unity\n",
    "xi = np.exp(2 * 1j * np.pi / M)"
   ]
  },
  {
   "cell_type": "code",
   "execution_count": 57,
   "metadata": {},
   "outputs": [
    {
     "data": {
      "text/plain": [
       "(0.7071067811865476+0.7071067811865475j)"
      ]
     },
     "execution_count": 57,
     "metadata": {},
     "output_type": "execute_result"
    }
   ],
   "source": [
    "xi"
   ]
  },
  {
   "cell_type": "code",
   "execution_count": 3,
   "metadata": {},
   "outputs": [],
   "source": [
    "# the message in $\\mathbb{C}^{N}$ that we are encoding\n",
    "z = [1, 2, 3, 4]\n",
    "assert len(z) == N"
   ]
  },
  {
   "cell_type": "code",
   "execution_count": 69,
   "metadata": {},
   "outputs": [
    {
     "data": {
      "text/latex": [
       "$x \\mapsto \\text{1.0}\\color{LightGray}{ + \\text{0.0}\\,x}\\color{LightGray}{ + \\text{0.0}\\,x^{2}}\\color{LightGray}{ + \\text{0.0}\\,x^{3}} + \\text{1.0}\\,x^{4}$"
      ],
      "text/plain": [
       "Polynomial([1., 0., 0., 0., 1.], domain=[-1,  1], window=[-1,  1], symbol='x')"
      ]
     },
     "execution_count": 69,
     "metadata": {},
     "output_type": "execute_result"
    }
   ],
   "source": [
    "# somewhat awkwardly written, but the way to think of this is that we want a 1 for the constant term and then another 1 at the degree N position\n",
    "# so that this is the polynomial X^N + 1\n",
    "SUBGROUP_POLY = Polynomial([1] + ([0] * (N-1)) + [1] )\n",
    "SUBGROUP_POLY"
   ]
  },
  {
   "cell_type": "code",
   "execution_count": 70,
   "metadata": {},
   "outputs": [],
   "source": [
    "A = np.vander([xi ** ((2*i) - 1) for i in range(1, N+1)], increasing=True)\n",
    "\n",
    "def encode(message):\n",
    "    '''Encodes a message in C^N to a plaintext in C[X]/(X^N + 1).'''\n",
    "    z = np.matrix(message).reshape((N, 1))\n",
    "    alpha = (inv(A) @ z)\n",
    "    # need to transform z to a list since an np.matrix is definitionally 2d and cannot be squeezed\n",
    "    alpha = np.squeeze(alpha.tolist(), axis=1)\n",
    "    return Polynomial(alpha)\n",
    "\n",
    "def decode(polynomial):\n",
    "    '''Decodes a message from C[X]/(X^N + 1) to C^N by evaluating it on the odd Mth roots of unity'''\n",
    "    return [polynomial(xi ** ((2*i) - 1)) for i in range(1, N+1)]"
   ]
  },
  {
   "cell_type": "code",
   "execution_count": 71,
   "metadata": {},
   "outputs": [
    {
     "data": {
      "text/plain": [
       "array([[ 1.00000000e+00+0.j        ,  7.07106781e-01+0.70710678j,\n",
       "         2.22044605e-16+1.j        , -7.07106781e-01+0.70710678j],\n",
       "       [ 1.00000000e+00+0.j        , -7.07106781e-01+0.70710678j,\n",
       "        -4.44089210e-16-1.j        ,  7.07106781e-01+0.70710678j],\n",
       "       [ 1.00000000e+00+0.j        , -7.07106781e-01-0.70710678j,\n",
       "         1.11022302e-15+1.j        ,  7.07106781e-01-0.70710678j],\n",
       "       [ 1.00000000e+00+0.j        ,  7.07106781e-01-0.70710678j,\n",
       "        -1.38777878e-15-1.j        , -7.07106781e-01-0.70710678j]])"
      ]
     },
     "execution_count": 71,
     "metadata": {},
     "output_type": "execute_result"
    }
   ],
   "source": [
    "A"
   ]
  },
  {
   "cell_type": "code",
   "execution_count": 72,
   "metadata": {},
   "outputs": [],
   "source": [
    "m = encode(z)"
   ]
  },
  {
   "cell_type": "code",
   "execution_count": 73,
   "metadata": {},
   "outputs": [
    {
     "data": {
      "text/latex": [
       "$x \\mapsto \\text{(2.5+6.522560269672799e-16j)} + (\\text{(-3.885780586188048e-16+0.7071067811865479j)})\\,x + (\\text{(-4.0245584642661964e-16+0.5000000000000002j)})\\,x^{2} + (\\text{(-7.771561172376096e-16+0.7071067811865472j)})\\,x^{3}$"
      ],
      "text/plain": [
       "Polynomial([ 2.50000000e+00+6.52256027e-16j, -3.88578059e-16+7.07106781e-01j,\n",
       "       -4.02455846e-16+5.00000000e-01j, -7.77156117e-16+7.07106781e-01j], domain=[-1,  1], window=[-1,  1], symbol='x')"
      ]
     },
     "execution_count": 73,
     "metadata": {},
     "output_type": "execute_result"
    }
   ],
   "source": [
    "m"
   ]
  },
  {
   "cell_type": "code",
   "execution_count": 68,
   "metadata": {},
   "outputs": [
    {
     "data": {
      "text/plain": [
       "[(1+9.714451465470159e-17j),\n",
       " (2-1.2490009027032972e-16j),\n",
       " (3-4.1633363423442976e-17j),\n",
       " (3.9999999999999996+3.191891195797329e-16j)]"
      ]
     },
     "execution_count": 68,
     "metadata": {},
     "output_type": "execute_result"
    }
   ],
   "source": [
    "decoded_z = decode(m)"
   ]
  },
  {
   "cell_type": "code",
   "execution_count": 74,
   "metadata": {},
   "outputs": [
    {
     "name": "stdout",
     "output_type": "stream",
     "text": [
      "[0j, 0j, 0j, 0j]\n",
      "[(-1-1.3155301742304191e-15j), (-4-4.273517545302939e-16j), (-9-2.31473089639306e-15j), (-16-7.088689902281233e-15j)]\n"
     ]
    }
   ],
   "source": [
    "# test of homomorphic addition/multiplication\n",
    "\n",
    "m1 = [1, 2, 3, 4]\n",
    "m2 = [-1, -2, -3, -4]\n",
    "\n",
    "z1, z2 = encode(m1), encode(m2)\n",
    "\n",
    "result1 = decode(z1 + z2)\n",
    "print(result1) # expect [0, 0, 0, 0]\n",
    "result2 = decode(z1 * z2 % SUBGROUP_POLY)\n",
    "print(result2) # expect [-1, -4, -9, -16]"
   ]
  },
  {
   "cell_type": "code",
   "execution_count": null,
   "metadata": {},
   "outputs": [],
   "source": []
  }
 ],
 "metadata": {
  "kernelspec": {
   "display_name": "Python 3",
   "language": "python",
   "name": "python3"
  },
  "language_info": {
   "codemirror_mode": {
    "name": "ipython",
    "version": 3
   },
   "file_extension": ".py",
   "mimetype": "text/x-python",
   "name": "python",
   "nbconvert_exporter": "python",
   "pygments_lexer": "ipython3",
   "version": "3.9.13"
  },
  "orig_nbformat": 4
 },
 "nbformat": 4,
 "nbformat_minor": 2
}
